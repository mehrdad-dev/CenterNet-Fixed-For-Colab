{
  "cells": [
    {
      "cell_type": "markdown",
      "metadata": {
        "id": "lLL2dr4D47Kx"
      },
      "source": [
        "# **🛠 CenterNet Fixed For Google Colab**\n",
        "\n",
        "[Docs](https://mehrdad-dev.ir/CenterNet-Fixed-For-Colab/)\n",
        "\n",
        "[GitHub](https://github.com/mehrdad-dev/CenterNet-Fixed-For-Colab)"
      ]
    },
    {
      "cell_type": "markdown",
      "metadata": {
        "id": "zF7Vj2t1z8eD"
      },
      "source": [
        "## **Clone CenterNet**"
      ]
    },
    {
      "cell_type": "code",
      "execution_count": null,
      "metadata": {
        "id": "FCI4p4M2jD3n"
      },
      "outputs": [],
      "source": [
        "! git clone https://github.com/mehrdad-dev/CenterNet-Fixed-For-Colab.git"
      ]
    },
    {
      "cell_type": "markdown",
      "metadata": {
        "id": "WiXEQxOL0Ffh"
      },
      "source": [
        "## **Install Conda**"
      ]
    },
    {
      "cell_type": "code",
      "execution_count": null,
      "metadata": {
        "id": "5ekx4wsVom7c"
      },
      "outputs": [],
      "source": [
        "! wget https://repo.anaconda.com/miniconda/Miniconda3-py37_4.8.2-Linux-x86_64.sh\n",
        "! chmod +x Miniconda3-py37_4.8.2-Linux-x86_64.sh\n",
        "! bash ./Miniconda3-py37_4.8.2-Linux-x86_64.sh -b -f -p /usr/local\n",
        "import sys\n",
        "sys.path.append('/usr/local/lib/python3.7/site-packages/')"
      ]
    },
    {
      "cell_type": "code",
      "execution_count": null,
      "metadata": {
        "id": "Hu__rIeqfFAi"
      },
      "outputs": [],
      "source": [
        "! conda install pytorch=1.4.0 torchvision -c pytorch"
      ]
    },
    {
      "cell_type": "code",
      "execution_count": null,
      "metadata": {
        "id": "OVsAyaAum3xu"
      },
      "outputs": [],
      "source": [
        "! conda install -c intel mkl=2021"
      ]
    },
    {
      "cell_type": "markdown",
      "metadata": {
        "id": "eA5qjkRz0LZI"
      },
      "source": [
        "## **Install Pakages**"
      ]
    },
    {
      "cell_type": "code",
      "execution_count": null,
      "metadata": {
        "id": "W5DvJJQKWmkR"
      },
      "outputs": [],
      "source": [
        "! pwd "
      ]
    },
    {
      "cell_type": "code",
      "execution_count": null,
      "metadata": {
        "id": "8aLuR4bdKPLO"
      },
      "outputs": [],
      "source": [
        "%cd  /content/CenterNet-Fixed-For-Colab/"
      ]
    },
    {
      "cell_type": "code",
      "execution_count": null,
      "metadata": {
        "id": "itnE_QDsbwCV"
      },
      "outputs": [],
      "source": [
        "! pip install -r requirements.txt"
      ]
    },
    {
      "cell_type": "markdown",
      "metadata": {
        "id": "Bci2fMbu0Qkt"
      },
      "source": [
        "## **Builds**"
      ]
    },
    {
      "cell_type": "code",
      "execution_count": null,
      "metadata": {
        "id": "6r15rb-A7fTy"
      },
      "outputs": [],
      "source": [
        "%cd src/lib/models/networks/DCNv2/\n",
        "! sh make.sh"
      ]
    },
    {
      "cell_type": "code",
      "execution_count": null,
      "metadata": {
        "id": "dg-Kwh21MI_n"
      },
      "outputs": [],
      "source": [
        "! pwd"
      ]
    },
    {
      "cell_type": "code",
      "execution_count": null,
      "metadata": {
        "id": "a-Q-ADcT547g"
      },
      "outputs": [],
      "source": [
        "%cd ../../../../"
      ]
    },
    {
      "cell_type": "code",
      "execution_count": null,
      "metadata": {
        "id": "g_q63LTTxxGk"
      },
      "outputs": [],
      "source": [
        "%cd lib/external"
      ]
    },
    {
      "cell_type": "code",
      "execution_count": null,
      "metadata": {
        "id": "DIoAvMyyx1AS"
      },
      "outputs": [],
      "source": [
        "! python setup.py build_ext --inplace"
      ]
    },
    {
      "cell_type": "markdown",
      "metadata": {
        "id": "02GVFsS_0VrX"
      },
      "source": [
        "## **Run models on your dataset & Save results**"
      ]
    },
    {
      "cell_type": "code",
      "execution_count": null,
      "metadata": {
        "id": "fEl8lVeglXyD"
      },
      "outputs": [],
      "source": [
        "%cd ../.."
      ]
    },
    {
      "cell_type": "code",
      "execution_count": 22,
      "metadata": {
        "id": "9DelXTJ12JCO"
      },
      "outputs": [],
      "source": [
        "!mkdir /content/CenterNet-Fixed-For-Colab/src/cache/debug"
      ]
    },
    {
      "cell_type": "markdown",
      "metadata": {
        "id": "gsrM22KH0sY6"
      },
      "source": [
        "## **Hourglass**"
      ]
    },
    {
      "cell_type": "code",
      "execution_count": null,
      "metadata": {
        "id": "1cs1kLDTBGOo"
      },
      "outputs": [],
      "source": [
        "! python demo.py ctdet --demo /content/drive/MyDrive/Data/challaenge-data/ \\\n",
        "     --load_model /content/drive/MyDrive/models/ctdet_coco_hg.pth --arch hourglass"
      ]
    },
    {
      "cell_type": "code",
      "execution_count": null,
      "metadata": {
        "id": "sJDsJP6C0iqG"
      },
      "outputs": [],
      "source": [
        "! zip -r /content/ctdet_coco_hg.zip /content/CenterNet/src/cache/debug"
      ]
    },
    {
      "cell_type": "code",
      "execution_count": 28,
      "metadata": {
        "id": "AMgKFZ6k2FWX"
      },
      "outputs": [],
      "source": [
        "!mv /content/CenterNet-Fixed-For-Colab/src/cache/debug/  /content/CenterNet-Fixed-For-Colab/src/cache/ctdet_coco_hg"
      ]
    },
    {
      "cell_type": "code",
      "execution_count": null,
      "metadata": {
        "id": "Z6d4VnnX4R-B"
      },
      "outputs": [],
      "source": [
        "!mkdir /content/CenterNet-Fixed-For-Colab/src/cache/debug"
      ]
    },
    {
      "cell_type": "markdown",
      "metadata": {
        "id": "oXFmVi2S08DZ"
      },
      "source": [
        "## **dla 1x**"
      ]
    },
    {
      "cell_type": "code",
      "execution_count": null,
      "metadata": {
        "id": "XV9OoLQpnBX1"
      },
      "outputs": [],
      "source": [
        "! python demo.py ctdet --demo /content/drive/MyDrive/Data/challaenge-data/ \\\n",
        "     --load_model /content/drive/MyDrive/models/ctdet_coco_dla_1x.pth"
      ]
    },
    {
      "cell_type": "code",
      "execution_count": null,
      "metadata": {
        "id": "3WxfWY1E0oC9"
      },
      "outputs": [],
      "source": [
        "!zip -r /content/ctdet_coco_dla_1x.zip /content/CenterNet/src/cache/debug"
      ]
    },
    {
      "cell_type": "code",
      "execution_count": null,
      "metadata": {
        "id": "N0Tq1Kna4an2"
      },
      "outputs": [],
      "source": [
        "!mv /content/CenterNet-Fixed-For-Colab/src/cache/debug/  /content/CenterNet-Fixed-For-Colab/src/cache/ctdet_coco_dla_1x"
      ]
    },
    {
      "cell_type": "code",
      "execution_count": null,
      "metadata": {
        "id": "ktZA4Eay4f1q"
      },
      "outputs": [],
      "source": [
        "!mkdir /content/CenterNet-Fixed-For-Colab/src/cache/debug"
      ]
    },
    {
      "cell_type": "markdown",
      "metadata": {
        "id": "WwqSNK9P1AFQ"
      },
      "source": [
        "## **dla 2x**"
      ]
    },
    {
      "cell_type": "code",
      "execution_count": null,
      "metadata": {
        "id": "q17qnk3sW7Tv"
      },
      "outputs": [],
      "source": [
        "! python demo.py ctdet --demo /content/drive/MyDrive/Data/challaenge-data/ \\\n",
        "     --load_model /content/drive/MyDrive/models/ctdet_coco_dla_2x.pth"
      ]
    },
    {
      "cell_type": "code",
      "execution_count": null,
      "metadata": {
        "id": "ahX4TAmQ0pfk"
      },
      "outputs": [],
      "source": [
        "!zip -r /content/ctdet_coco_dla_2x.zip /content/CenterNet/src/cache/debug"
      ]
    },
    {
      "cell_type": "code",
      "execution_count": null,
      "metadata": {
        "id": "_4zNHZHP4cEO"
      },
      "outputs": [],
      "source": [
        "!mv /content/CenterNet-Fixed-For-Colab/src/cache/debug/  /content/CenterNet-Fixed-For-Colab/src/cache/ctdet_coco_dla_2x"
      ]
    },
    {
      "cell_type": "code",
      "execution_count": null,
      "metadata": {
        "id": "JuLanU1y4mgQ"
      },
      "outputs": [],
      "source": [
        "!mkdir /content/CenterNet-Fixed-For-Colab/src/cache/debug"
      ]
    },
    {
      "cell_type": "markdown",
      "metadata": {
        "id": "obn_SKHh1E6i"
      },
      "source": [
        "## **resdcn 101**"
      ]
    },
    {
      "cell_type": "code",
      "execution_count": null,
      "metadata": {
        "id": "6tIO7KCfozlC"
      },
      "outputs": [],
      "source": [
        "! python demo.py ctdet --demo /content/drive/MyDrive/Data/challaenge-data/ \\\n",
        "     --load_model /content/drive/MyDrive/models/ctdet_coco_resdcn101.pth --arch resdcn_101"
      ]
    },
    {
      "cell_type": "code",
      "execution_count": null,
      "metadata": {
        "id": "-Q1J1Ziu0qO4"
      },
      "outputs": [],
      "source": [
        "!zip -r /content/ctdet_coco_resdcn101.zip /content/CenterNet/src/cache/debug"
      ]
    },
    {
      "cell_type": "code",
      "execution_count": null,
      "metadata": {
        "id": "xGIoditJ4wkJ"
      },
      "outputs": [],
      "source": [
        "!mv /content/CenterNet-Fixed-For-Colab/src/cache/debug/  /content/CenterNet-Fixed-For-Colab/src/cache/ctdet_coco_resdcn101"
      ]
    },
    {
      "cell_type": "code",
      "execution_count": null,
      "metadata": {
        "id": "Y1VPEVsZ4yRV"
      },
      "outputs": [],
      "source": [
        "!mkdir /content/CenterNet-Fixed-For-Colab/src/cache/debug"
      ]
    },
    {
      "cell_type": "markdown",
      "metadata": {
        "id": "p_ka9HPY1JIT"
      },
      "source": [
        "## **resdcn 18**"
      ]
    },
    {
      "cell_type": "code",
      "execution_count": null,
      "metadata": {
        "id": "LxGwdGSptiF1"
      },
      "outputs": [],
      "source": [
        "! python demo.py ctdet --demo /content/drive/MyDrive/Data/challaenge-data/ \\\n",
        "     --load_model /content/drive/MyDrive/models/ctdet_coco_resdcn18.pth --arch resdcn_18"
      ]
    },
    {
      "cell_type": "code",
      "execution_count": 19,
      "metadata": {
        "id": "NnnXOywJ4we6"
      },
      "outputs": [],
      "source": [
        "!zip -r /content/ctdet_coco_resdcn18.zip /content/CenterNet/src/cache/debug"
      ]
    },
    {
      "cell_type": "code",
      "execution_count": 20,
      "metadata": {
        "id": "6WbTCIM3S4L_"
      },
      "outputs": [],
      "source": [
        "!mv /content/CenterNet-Fixed-For-Colab/src/cache/debug/  /content/CenterNet-Fixed-For-Colab/src/cache/ctdet_coco_resdcn18"
      ]
    },
    {
      "cell_type": "code",
      "execution_count": null,
      "metadata": {
        "id": "PpsQn5vS42yL"
      },
      "outputs": [],
      "source": [
        "!mkdir /content/CenterNet-Fixed-For-Colab/src/cache/debug"
      ]
    }
  ],
  "metadata": {
    "accelerator": "GPU",
    "colab": {
      "collapsed_sections": [],
      "name": "CenterNet-Veerasense.ipynb",
      "provenance": []
    },
    "kernelspec": {
      "display_name": "Python 3",
      "name": "python3"
    },
    "language_info": {
      "name": "python"
    }
  },
  "nbformat": 4,
  "nbformat_minor": 0
}
